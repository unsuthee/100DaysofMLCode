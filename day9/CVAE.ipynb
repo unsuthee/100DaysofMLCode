{
 "cells": [
  {
   "cell_type": "code",
   "execution_count": 1,
   "metadata": {},
   "outputs": [
    {
     "name": "stdout",
     "output_type": "stream",
     "text": [
      "Files already downloaded and verified\n",
      "==>>> total trainning batch number: 782\n"
     ]
    }
   ],
   "source": [
    "import os, sys\n",
    "import numpy as np\n",
    "import torch\n",
    "import torch.nn as nn\n",
    "from torch.autograd import Variable\n",
    "from torch.nn import Parameter\n",
    "import torchvision\n",
    "import torchvision.datasets as datasets\n",
    "import torchvision.transforms as transforms\n",
    "import torch.nn.functional as F\n",
    "import torch.optim as optim\n",
    "from tqdm import tqdm\n",
    "\n",
    "imageSize = 64\n",
    "batch_size = 64\n",
    "\n",
    "trans = transforms.Compose([transforms.Resize(imageSize),\n",
    "                            transforms.CenterCrop(imageSize),\n",
    "                            transforms.ToTensor(),\n",
    "                            transforms.Normalize((0.5, 0.5, 0.5), (0.5, 0.5, 0.5))])\n",
    "\n",
    "dataset = 'CIFAR10'\n",
    "\n",
    "if dataset == 'CIFAR10':\n",
    "    train_set = datasets.CIFAR10('../datasets/cifar10', train=True, download=True, transform=trans)\n",
    "elif dataset == 'STL10':\n",
    "    train_set = datasets.FashionMNIST('../datasets/stl10', train=True, download=True, transform=trans)\n",
    "\n",
    "\n",
    "train_loader = torch.utils.data.DataLoader(\n",
    "                 dataset=train_set,\n",
    "                 batch_size=batch_size,\n",
    "                 shuffle=True)\n",
    "\n",
    "print('==>>> total trainning batch number: {}'.format(len(train_loader)))"
   ]
  },
  {
   "cell_type": "code",
   "execution_count": 2,
   "metadata": {},
   "outputs": [],
   "source": [
    "os.environ[\"CUDA_VISIBLE_DEVICES\"]=\"1\"\n",
    "\n",
    "device = torch.device(\"cuda:0\")\n",
    "ngpu = 1 # number of gpu to use\n",
    "nz = 100 # size of the latent z vector int(opt.nz)\n",
    "ngf = 64\n",
    "ndf = 64\n",
    "nc = 3"
   ]
  },
  {
   "cell_type": "code",
   "execution_count": 3,
   "metadata": {},
   "outputs": [],
   "source": [
    "class CVAE(nn.Module):\n",
    "    def __init__(self, latent_size, num_classes):\n",
    "        super(CVAE, self).__init__()\n",
    "        \n",
    "        self.latent_size = latent_size\n",
    "        self.num_classes = num_classes\n",
    "        \n",
    "        # encoder\n",
    "        self.enc = nn.Sequential(\n",
    "            # input is (nc) x 64 x 64\n",
    "            nn.Conv2d(nc, ndf, 4, 2, 1, bias=False),\n",
    "            nn.LeakyReLU(0.2, inplace=True),\n",
    "            # state size. (ndf) x 32 x 32\n",
    "            nn.Conv2d(ndf, ndf * 2, 4, 2, 1, bias=False),\n",
    "            nn.BatchNorm2d(ndf * 2),\n",
    "            nn.LeakyReLU(0.2, inplace=True),\n",
    "            # state size. (ndf*2) x 16 x 16\n",
    "            nn.Conv2d(ndf * 2, ndf * 4, 4, 2, 1, bias=False),\n",
    "            nn.BatchNorm2d(ndf * 4),\n",
    "            nn.LeakyReLU(0.2, inplace=True),\n",
    "            # state size. (ndf*4) x 8 x 8\n",
    "            nn.Conv2d(ndf * 4, ndf * 8, 4, 2, 1, bias=False),\n",
    "            nn.BatchNorm2d(ndf * 8),\n",
    "            nn.LeakyReLU(0.2, inplace=True),\n",
    "            # state size. (ndf*8) x 4 x 4\n",
    "            nn.Conv2d(ndf * 8, nz, 4, 1, 0, bias=False)\n",
    "        )\n",
    "        \n",
    "        self.h_to_mu = nn.Linear(latent_size, latent_size)\n",
    "        self.h_to_logvar = nn.Sequential(nn.Linear(latent_size, latent_size),\n",
    "                                    nn.Sigmoid())\n",
    "\n",
    "        # decoder\n",
    "        self.dec = nn.Sequential(\n",
    "            # input is Z, going into a convolution\n",
    "            nn.ConvTranspose2d(     latent_size + num_classes, ngf * 8, 4, 1, 0, bias=False),\n",
    "            nn.BatchNorm2d(ngf * 8),\n",
    "            nn.ReLU(True),\n",
    "            # state size. (ngf*8) x 4 x 4\n",
    "            nn.ConvTranspose2d(ngf * 8, ngf * 4, 4, 2, 1, bias=False),\n",
    "            nn.BatchNorm2d(ngf * 4),\n",
    "            nn.ReLU(True),\n",
    "            # state size. (ngf*4) x 8 x 8\n",
    "            nn.ConvTranspose2d(ngf * 4, ngf * 2, 4, 2, 1, bias=False),\n",
    "            nn.BatchNorm2d(ngf * 2),\n",
    "            nn.ReLU(True),\n",
    "            # state size. (ngf*2) x 16 x 16\n",
    "            nn.ConvTranspose2d(ngf * 2,     ngf, 4, 2, 1, bias=False),\n",
    "            nn.BatchNorm2d(ngf),\n",
    "            nn.ReLU(True),\n",
    "            # state size. (ngf) x 32 x 32\n",
    "            nn.ConvTranspose2d(    ngf,      nc, 4, 2, 1, bias=False),\n",
    "            nn.Tanh()\n",
    "            # state size. (nc) x 64 x 64\n",
    "        )\n",
    "        \n",
    "    def encode(self, xb):\n",
    "        h = self.enc(xb)\n",
    "        h = h.view(-1, self.latent_size)\n",
    "        z_mu = self.h_to_mu(h)\n",
    "        z_logvar = self.h_to_logvar(h)\n",
    "        return z_mu, z_logvar\n",
    "    \n",
    "    def decode(self, zb):\n",
    "        zb = zb.view(-1, nz + self.num_classes, 1, 1)\n",
    "        xb_hat = self.dec(zb)\n",
    "        return xb_hat\n",
    "        \n",
    "    def reparametrize(self, mu, logvar):\n",
    "        std = torch.sqrt(torch.exp(logvar))\n",
    "        eps = torch.cuda.FloatTensor(std.size()).normal_()\n",
    "        eps = Variable(eps)\n",
    "        return eps.mul(std).add_(mu)\n",
    "    \n",
    "    def forward(self, xb, yb):\n",
    "        zb_mu, zb_logvar = self.encode(xb)\n",
    "        zb = self.reparametrize(zb_mu, zb_logvar)\n",
    "        \n",
    "        zyb = torch.cat([zb, yb], dim=1)\n",
    "        \n",
    "        xb_hat = self.decode(zyb)\n",
    "        return xb_hat, zb_mu, zb_logvar"
   ]
  },
  {
   "cell_type": "code",
   "execution_count": 4,
   "metadata": {},
   "outputs": [
    {
     "data": {
      "text/plain": [
       "CVAE(\n",
       "  (enc): Sequential(\n",
       "    (0): Conv2d(3, 64, kernel_size=(4, 4), stride=(2, 2), padding=(1, 1), bias=False)\n",
       "    (1): LeakyReLU(negative_slope=0.2, inplace)\n",
       "    (2): Conv2d(64, 128, kernel_size=(4, 4), stride=(2, 2), padding=(1, 1), bias=False)\n",
       "    (3): BatchNorm2d(128, eps=1e-05, momentum=0.1, affine=True, track_running_stats=True)\n",
       "    (4): LeakyReLU(negative_slope=0.2, inplace)\n",
       "    (5): Conv2d(128, 256, kernel_size=(4, 4), stride=(2, 2), padding=(1, 1), bias=False)\n",
       "    (6): BatchNorm2d(256, eps=1e-05, momentum=0.1, affine=True, track_running_stats=True)\n",
       "    (7): LeakyReLU(negative_slope=0.2, inplace)\n",
       "    (8): Conv2d(256, 512, kernel_size=(4, 4), stride=(2, 2), padding=(1, 1), bias=False)\n",
       "    (9): BatchNorm2d(512, eps=1e-05, momentum=0.1, affine=True, track_running_stats=True)\n",
       "    (10): LeakyReLU(negative_slope=0.2, inplace)\n",
       "    (11): Conv2d(512, 100, kernel_size=(4, 4), stride=(1, 1), bias=False)\n",
       "  )\n",
       "  (h_to_mu): Linear(in_features=100, out_features=100, bias=True)\n",
       "  (h_to_logvar): Sequential(\n",
       "    (0): Linear(in_features=100, out_features=100, bias=True)\n",
       "    (1): Sigmoid()\n",
       "  )\n",
       "  (dec): Sequential(\n",
       "    (0): ConvTranspose2d(110, 512, kernel_size=(4, 4), stride=(1, 1), bias=False)\n",
       "    (1): BatchNorm2d(512, eps=1e-05, momentum=0.1, affine=True, track_running_stats=True)\n",
       "    (2): ReLU(inplace)\n",
       "    (3): ConvTranspose2d(512, 256, kernel_size=(4, 4), stride=(2, 2), padding=(1, 1), bias=False)\n",
       "    (4): BatchNorm2d(256, eps=1e-05, momentum=0.1, affine=True, track_running_stats=True)\n",
       "    (5): ReLU(inplace)\n",
       "    (6): ConvTranspose2d(256, 128, kernel_size=(4, 4), stride=(2, 2), padding=(1, 1), bias=False)\n",
       "    (7): BatchNorm2d(128, eps=1e-05, momentum=0.1, affine=True, track_running_stats=True)\n",
       "    (8): ReLU(inplace)\n",
       "    (9): ConvTranspose2d(128, 64, kernel_size=(4, 4), stride=(2, 2), padding=(1, 1), bias=False)\n",
       "    (10): BatchNorm2d(64, eps=1e-05, momentum=0.1, affine=True, track_running_stats=True)\n",
       "    (11): ReLU(inplace)\n",
       "    (12): ConvTranspose2d(64, 3, kernel_size=(4, 4), stride=(2, 2), padding=(1, 1), bias=False)\n",
       "    (13): Tanh()\n",
       "  )\n",
       ")"
      ]
     },
     "execution_count": 4,
     "metadata": {},
     "output_type": "execute_result"
    }
   ],
   "source": [
    "os.environ[\"CUDA_VISIBLE_DEVICES\"]=\"1\"\n",
    "\n",
    "num_classes = 10\n",
    "\n",
    "model = CVAE(nz, num_classes)\n",
    "model.cuda()"
   ]
  },
  {
   "cell_type": "code",
   "execution_count": 5,
   "metadata": {},
   "outputs": [
    {
     "name": "stderr",
     "output_type": "stream",
     "text": [
      "100%|██████████| 782/782 [00:55<00:00, 14.18it/s]\n",
      "  0%|          | 2/782 [00:00<00:50, 15.37it/s]"
     ]
    },
    {
     "name": "stdout",
     "output_type": "stream",
     "text": [
      "epoch:0 loss: 53972.6931\n"
     ]
    },
    {
     "name": "stderr",
     "output_type": "stream",
     "text": [
      "100%|██████████| 782/782 [00:54<00:00, 14.48it/s]\n",
      "  0%|          | 2/782 [00:00<00:48, 16.20it/s]"
     ]
    },
    {
     "name": "stdout",
     "output_type": "stream",
     "text": [
      "epoch:1 loss: 30267.3541\n"
     ]
    },
    {
     "name": "stderr",
     "output_type": "stream",
     "text": [
      "100%|██████████| 782/782 [00:54<00:00, 14.38it/s]\n",
      "  0%|          | 2/782 [00:00<00:59, 13.20it/s]"
     ]
    },
    {
     "name": "stdout",
     "output_type": "stream",
     "text": [
      "epoch:2 loss: 25342.2752\n"
     ]
    },
    {
     "name": "stderr",
     "output_type": "stream",
     "text": [
      "100%|██████████| 782/782 [00:54<00:00, 14.44it/s]\n",
      "  0%|          | 2/782 [00:00<00:52, 14.99it/s]"
     ]
    },
    {
     "name": "stdout",
     "output_type": "stream",
     "text": [
      "epoch:3 loss: 23054.3336\n"
     ]
    },
    {
     "name": "stderr",
     "output_type": "stream",
     "text": [
      "100%|██████████| 782/782 [00:54<00:00, 14.29it/s]\n",
      "  0%|          | 2/782 [00:00<00:50, 15.52it/s]"
     ]
    },
    {
     "name": "stdout",
     "output_type": "stream",
     "text": [
      "epoch:4 loss: 21813.6391\n"
     ]
    },
    {
     "name": "stderr",
     "output_type": "stream",
     "text": [
      "100%|██████████| 782/782 [00:53<00:00, 14.55it/s]\n",
      "  0%|          | 2/782 [00:00<00:49, 15.89it/s]"
     ]
    },
    {
     "name": "stdout",
     "output_type": "stream",
     "text": [
      "epoch:5 loss: 20903.7836\n"
     ]
    },
    {
     "name": "stderr",
     "output_type": "stream",
     "text": [
      "100%|██████████| 782/782 [00:55<00:00, 14.18it/s]\n",
      "  0%|          | 2/782 [00:00<01:10, 11.07it/s]"
     ]
    },
    {
     "name": "stdout",
     "output_type": "stream",
     "text": [
      "epoch:6 loss: 20223.0635\n"
     ]
    },
    {
     "name": "stderr",
     "output_type": "stream",
     "text": [
      "100%|██████████| 782/782 [00:54<00:00, 14.24it/s]\n",
      "  0%|          | 2/782 [00:00<00:54, 14.41it/s]"
     ]
    },
    {
     "name": "stdout",
     "output_type": "stream",
     "text": [
      "epoch:7 loss: 19597.3707\n"
     ]
    },
    {
     "name": "stderr",
     "output_type": "stream",
     "text": [
      "100%|██████████| 782/782 [00:55<00:00, 14.16it/s]\n",
      "  0%|          | 2/782 [00:00<00:51, 15.08it/s]"
     ]
    },
    {
     "name": "stdout",
     "output_type": "stream",
     "text": [
      "epoch:8 loss: 19123.3391\n"
     ]
    },
    {
     "name": "stderr",
     "output_type": "stream",
     "text": [
      "100%|██████████| 782/782 [00:54<00:00, 14.39it/s]\n",
      "  0%|          | 2/782 [00:00<00:52, 14.99it/s]"
     ]
    },
    {
     "name": "stdout",
     "output_type": "stream",
     "text": [
      "epoch:9 loss: 18694.0964\n"
     ]
    },
    {
     "name": "stderr",
     "output_type": "stream",
     "text": [
      "100%|██████████| 782/782 [00:54<00:00, 14.26it/s]\n",
      "  0%|          | 2/782 [00:00<00:58, 13.41it/s]"
     ]
    },
    {
     "name": "stdout",
     "output_type": "stream",
     "text": [
      "epoch:10 loss: 18206.5472\n"
     ]
    },
    {
     "name": "stderr",
     "output_type": "stream",
     "text": [
      "100%|██████████| 782/782 [00:54<00:00, 14.36it/s]\n",
      "  0%|          | 2/782 [00:00<00:51, 15.04it/s]"
     ]
    },
    {
     "name": "stdout",
     "output_type": "stream",
     "text": [
      "epoch:11 loss: 17955.5494\n"
     ]
    },
    {
     "name": "stderr",
     "output_type": "stream",
     "text": [
      "100%|██████████| 782/782 [00:53<00:00, 14.63it/s]\n",
      "  0%|          | 2/782 [00:00<00:59, 13.02it/s]"
     ]
    },
    {
     "name": "stdout",
     "output_type": "stream",
     "text": [
      "epoch:12 loss: 17565.5346\n"
     ]
    },
    {
     "name": "stderr",
     "output_type": "stream",
     "text": [
      "100%|██████████| 782/782 [00:54<00:00, 14.38it/s]\n",
      "  0%|          | 2/782 [00:00<00:46, 16.68it/s]"
     ]
    },
    {
     "name": "stdout",
     "output_type": "stream",
     "text": [
      "epoch:13 loss: 17349.0232\n"
     ]
    },
    {
     "name": "stderr",
     "output_type": "stream",
     "text": [
      "100%|██████████| 782/782 [00:54<00:00, 14.30it/s]\n",
      "  0%|          | 2/782 [00:00<01:14, 10.54it/s]"
     ]
    },
    {
     "name": "stdout",
     "output_type": "stream",
     "text": [
      "epoch:14 loss: 17164.7787\n"
     ]
    },
    {
     "name": "stderr",
     "output_type": "stream",
     "text": [
      "100%|██████████| 782/782 [00:54<00:00, 14.42it/s]\n",
      "  0%|          | 1/782 [00:00<01:21,  9.53it/s]"
     ]
    },
    {
     "name": "stdout",
     "output_type": "stream",
     "text": [
      "epoch:15 loss: 16897.5991\n"
     ]
    },
    {
     "name": "stderr",
     "output_type": "stream",
     "text": [
      "100%|██████████| 782/782 [00:54<00:00, 14.42it/s]\n",
      "  0%|          | 2/782 [00:00<00:53, 14.53it/s]"
     ]
    },
    {
     "name": "stdout",
     "output_type": "stream",
     "text": [
      "epoch:16 loss: 16716.4351\n"
     ]
    },
    {
     "name": "stderr",
     "output_type": "stream",
     "text": [
      "100%|██████████| 782/782 [00:54<00:00, 14.31it/s]\n",
      "  0%|          | 2/782 [00:00<01:08, 11.43it/s]"
     ]
    },
    {
     "name": "stdout",
     "output_type": "stream",
     "text": [
      "epoch:17 loss: 16479.3442\n"
     ]
    },
    {
     "name": "stderr",
     "output_type": "stream",
     "text": [
      "100%|██████████| 782/782 [00:54<00:00, 14.42it/s]\n",
      "  0%|          | 2/782 [00:00<00:53, 14.60it/s]"
     ]
    },
    {
     "name": "stdout",
     "output_type": "stream",
     "text": [
      "epoch:18 loss: 16332.7161\n"
     ]
    },
    {
     "name": "stderr",
     "output_type": "stream",
     "text": [
      "100%|██████████| 782/782 [00:54<00:00, 14.23it/s]\n",
      "  0%|          | 2/782 [00:00<01:11, 10.98it/s]"
     ]
    },
    {
     "name": "stdout",
     "output_type": "stream",
     "text": [
      "epoch:19 loss: 16135.4354\n"
     ]
    },
    {
     "name": "stderr",
     "output_type": "stream",
     "text": [
      "100%|██████████| 782/782 [00:54<00:00, 14.38it/s]\n",
      "  0%|          | 2/782 [00:00<00:53, 14.44it/s]"
     ]
    },
    {
     "name": "stdout",
     "output_type": "stream",
     "text": [
      "epoch:20 loss: 15989.4553\n"
     ]
    },
    {
     "name": "stderr",
     "output_type": "stream",
     "text": [
      "100%|██████████| 782/782 [00:54<00:00, 14.38it/s]\n",
      "  0%|          | 2/782 [00:00<00:57, 13.59it/s]"
     ]
    },
    {
     "name": "stdout",
     "output_type": "stream",
     "text": [
      "epoch:21 loss: 15899.8344\n"
     ]
    },
    {
     "name": "stderr",
     "output_type": "stream",
     "text": [
      "100%|██████████| 782/782 [00:54<00:00, 14.24it/s]\n",
      "  0%|          | 2/782 [00:00<00:52, 14.86it/s]"
     ]
    },
    {
     "name": "stdout",
     "output_type": "stream",
     "text": [
      "epoch:22 loss: 15720.8883\n"
     ]
    },
    {
     "name": "stderr",
     "output_type": "stream",
     "text": [
      "100%|██████████| 782/782 [00:54<00:00, 14.38it/s]\n",
      "  0%|          | 2/782 [00:00<01:02, 12.57it/s]"
     ]
    },
    {
     "name": "stdout",
     "output_type": "stream",
     "text": [
      "epoch:23 loss: 15596.7752\n"
     ]
    },
    {
     "name": "stderr",
     "output_type": "stream",
     "text": [
      "100%|██████████| 782/782 [00:53<00:00, 14.60it/s]\n",
      "  0%|          | 2/782 [00:00<00:54, 14.27it/s]"
     ]
    },
    {
     "name": "stdout",
     "output_type": "stream",
     "text": [
      "epoch:24 loss: 15543.9935\n"
     ]
    },
    {
     "name": "stderr",
     "output_type": "stream",
     "text": [
      "100%|██████████| 782/782 [00:54<00:00, 14.44it/s]\n",
      "  0%|          | 2/782 [00:00<01:03, 12.29it/s]"
     ]
    },
    {
     "name": "stdout",
     "output_type": "stream",
     "text": [
      "epoch:25 loss: 15361.8651\n"
     ]
    },
    {
     "name": "stderr",
     "output_type": "stream",
     "text": [
      "100%|██████████| 782/782 [00:54<00:00, 14.46it/s]\n",
      "  0%|          | 2/782 [00:00<00:51, 15.01it/s]"
     ]
    },
    {
     "name": "stdout",
     "output_type": "stream",
     "text": [
      "epoch:26 loss: 15272.0650\n"
     ]
    },
    {
     "name": "stderr",
     "output_type": "stream",
     "text": [
      "100%|██████████| 782/782 [00:54<00:00, 14.33it/s]\n",
      "  0%|          | 2/782 [00:00<00:53, 14.54it/s]"
     ]
    },
    {
     "name": "stdout",
     "output_type": "stream",
     "text": [
      "epoch:27 loss: 15115.8306\n"
     ]
    },
    {
     "name": "stderr",
     "output_type": "stream",
     "text": [
      "100%|██████████| 782/782 [00:54<00:00, 14.33it/s]\n",
      "  0%|          | 2/782 [00:00<00:52, 14.75it/s]"
     ]
    },
    {
     "name": "stdout",
     "output_type": "stream",
     "text": [
      "epoch:28 loss: 15038.7777\n"
     ]
    },
    {
     "name": "stderr",
     "output_type": "stream",
     "text": [
      "100%|██████████| 782/782 [00:55<00:00, 14.14it/s]\n",
      "  0%|          | 2/782 [00:00<00:57, 13.59it/s]"
     ]
    },
    {
     "name": "stdout",
     "output_type": "stream",
     "text": [
      "epoch:29 loss: 14931.1919\n"
     ]
    },
    {
     "name": "stderr",
     "output_type": "stream",
     "text": [
      "100%|██████████| 782/782 [00:54<00:00, 14.34it/s]\n",
      "  0%|          | 2/782 [00:00<00:52, 14.85it/s]"
     ]
    },
    {
     "name": "stdout",
     "output_type": "stream",
     "text": [
      "epoch:30 loss: 14822.8893\n"
     ]
    },
    {
     "name": "stderr",
     "output_type": "stream",
     "text": [
      "100%|██████████| 782/782 [00:53<00:00, 14.57it/s]\n",
      "  0%|          | 2/782 [00:00<00:53, 14.55it/s]"
     ]
    },
    {
     "name": "stdout",
     "output_type": "stream",
     "text": [
      "epoch:31 loss: 14747.3904\n"
     ]
    },
    {
     "name": "stderr",
     "output_type": "stream",
     "text": [
      "100%|██████████| 782/782 [00:55<00:00, 14.03it/s]\n",
      "  0%|          | 2/782 [00:00<00:53, 14.57it/s]"
     ]
    },
    {
     "name": "stdout",
     "output_type": "stream",
     "text": [
      "epoch:32 loss: 14644.2226\n"
     ]
    },
    {
     "name": "stderr",
     "output_type": "stream",
     "text": [
      "100%|██████████| 782/782 [00:54<00:00, 14.29it/s]\n",
      "  0%|          | 2/782 [00:00<01:10, 11.05it/s]"
     ]
    },
    {
     "name": "stdout",
     "output_type": "stream",
     "text": [
      "epoch:33 loss: 14544.3850\n"
     ]
    },
    {
     "name": "stderr",
     "output_type": "stream",
     "text": [
      "100%|██████████| 782/782 [00:54<00:00, 14.34it/s]\n",
      "  0%|          | 2/782 [00:00<00:58, 13.25it/s]"
     ]
    },
    {
     "name": "stdout",
     "output_type": "stream",
     "text": [
      "epoch:34 loss: 14448.1163\n"
     ]
    },
    {
     "name": "stderr",
     "output_type": "stream",
     "text": [
      "100%|██████████| 782/782 [00:55<00:00, 14.14it/s]\n",
      "  0%|          | 2/782 [00:00<00:52, 14.98it/s]"
     ]
    },
    {
     "name": "stdout",
     "output_type": "stream",
     "text": [
      "epoch:35 loss: 14417.7737\n"
     ]
    },
    {
     "name": "stderr",
     "output_type": "stream",
     "text": [
      "100%|██████████| 782/782 [00:54<00:00, 14.44it/s]\n",
      "  0%|          | 2/782 [00:00<00:52, 14.98it/s]"
     ]
    },
    {
     "name": "stdout",
     "output_type": "stream",
     "text": [
      "epoch:36 loss: 14308.7313\n"
     ]
    },
    {
     "name": "stderr",
     "output_type": "stream",
     "text": [
      "100%|██████████| 782/782 [00:54<00:00, 14.32it/s]\n",
      "  0%|          | 2/782 [00:00<00:52, 14.95it/s]"
     ]
    },
    {
     "name": "stdout",
     "output_type": "stream",
     "text": [
      "epoch:37 loss: 14284.3574\n"
     ]
    },
    {
     "name": "stderr",
     "output_type": "stream",
     "text": [
      "100%|██████████| 782/782 [00:54<00:00, 14.33it/s]\n",
      "  0%|          | 2/782 [00:00<01:08, 11.34it/s]"
     ]
    },
    {
     "name": "stdout",
     "output_type": "stream",
     "text": [
      "epoch:38 loss: 14145.7330\n"
     ]
    },
    {
     "name": "stderr",
     "output_type": "stream",
     "text": [
      "100%|██████████| 782/782 [00:55<00:00, 14.05it/s]\n",
      "  0%|          | 2/782 [00:00<00:54, 14.29it/s]"
     ]
    },
    {
     "name": "stdout",
     "output_type": "stream",
     "text": [
      "epoch:39 loss: 14116.2152\n"
     ]
    },
    {
     "name": "stderr",
     "output_type": "stream",
     "text": [
      "100%|██████████| 782/782 [00:54<00:00, 14.41it/s]\n",
      "  0%|          | 2/782 [00:00<00:56, 13.82it/s]"
     ]
    },
    {
     "name": "stdout",
     "output_type": "stream",
     "text": [
      "epoch:40 loss: 14056.9724\n"
     ]
    },
    {
     "name": "stderr",
     "output_type": "stream",
     "text": [
      "100%|██████████| 782/782 [00:54<00:00, 14.37it/s]\n",
      "  0%|          | 2/782 [00:00<00:52, 14.97it/s]"
     ]
    },
    {
     "name": "stdout",
     "output_type": "stream",
     "text": [
      "epoch:41 loss: 14003.3363\n"
     ]
    },
    {
     "name": "stderr",
     "output_type": "stream",
     "text": [
      "100%|██████████| 782/782 [00:54<00:00, 14.37it/s]\n",
      "  0%|          | 2/782 [00:00<00:54, 14.42it/s]"
     ]
    },
    {
     "name": "stdout",
     "output_type": "stream",
     "text": [
      "epoch:42 loss: 13943.2894\n"
     ]
    },
    {
     "name": "stderr",
     "output_type": "stream",
     "text": [
      "100%|██████████| 782/782 [00:54<00:00, 14.48it/s]\n",
      "  0%|          | 2/782 [00:00<00:53, 14.57it/s]"
     ]
    },
    {
     "name": "stdout",
     "output_type": "stream",
     "text": [
      "epoch:43 loss: 13837.0415\n"
     ]
    },
    {
     "name": "stderr",
     "output_type": "stream",
     "text": [
      "100%|██████████| 782/782 [00:54<00:00, 14.33it/s]\n",
      "  0%|          | 2/782 [00:00<00:52, 14.81it/s]"
     ]
    },
    {
     "name": "stdout",
     "output_type": "stream",
     "text": [
      "epoch:44 loss: 13804.1402\n"
     ]
    },
    {
     "name": "stderr",
     "output_type": "stream",
     "text": [
      "100%|██████████| 782/782 [00:54<00:00, 14.30it/s]\n",
      "  0%|          | 2/782 [00:00<00:58, 13.35it/s]"
     ]
    },
    {
     "name": "stdout",
     "output_type": "stream",
     "text": [
      "epoch:45 loss: 13752.6690\n"
     ]
    },
    {
     "name": "stderr",
     "output_type": "stream",
     "text": [
      "100%|██████████| 782/782 [00:54<00:00, 14.23it/s]\n",
      "  0%|          | 2/782 [00:00<00:53, 14.53it/s]"
     ]
    },
    {
     "name": "stdout",
     "output_type": "stream",
     "text": [
      "epoch:46 loss: 13677.9805\n"
     ]
    },
    {
     "name": "stderr",
     "output_type": "stream",
     "text": [
      "100%|██████████| 782/782 [00:55<00:00, 14.07it/s]\n",
      "  0%|          | 2/782 [00:00<00:52, 14.99it/s]"
     ]
    },
    {
     "name": "stdout",
     "output_type": "stream",
     "text": [
      "epoch:47 loss: 13640.6337\n"
     ]
    },
    {
     "name": "stderr",
     "output_type": "stream",
     "text": [
      "100%|██████████| 782/782 [00:53<00:00, 14.59it/s]\n",
      "  0%|          | 2/782 [00:00<01:11, 10.92it/s]"
     ]
    },
    {
     "name": "stdout",
     "output_type": "stream",
     "text": [
      "epoch:48 loss: 13605.4789\n"
     ]
    },
    {
     "name": "stderr",
     "output_type": "stream",
     "text": [
      "100%|██████████| 782/782 [00:55<00:00, 14.09it/s]"
     ]
    },
    {
     "name": "stdout",
     "output_type": "stream",
     "text": [
      "epoch:49 loss: 13539.5442\n"
     ]
    },
    {
     "name": "stderr",
     "output_type": "stream",
     "text": [
      "\n"
     ]
    }
   ],
   "source": [
    "def generate_digit_vector(zb, digit, num_classes):\n",
    "    target_digit = digit * torch.ones(z_samples.size(0)).type(torch.LongTensor)\n",
    "    target_digit = torch.eye(num_classes)[target_digit]\n",
    "    target_digit = Variable(target_digit).cuda()\n",
    "    return torch.cat([zb, target_digit], dim=1)\n",
    "\n",
    "mse_loss = nn.MSELoss(size_average=False)\n",
    "\n",
    "def kl_loss(mu, logvar):\n",
    "    KLD_element = mu.pow(2).add_(logvar.exp()).mul_(-1).add_(1).add_(logvar)\n",
    "    KLD = torch.sum(KLD_element, dim=1)\n",
    "    KLD = torch.mean(KLD).mul_(-0.5)\n",
    "    return KLD\n",
    "\n",
    "optimizer = optim.Adam(model.parameters(), lr=0.001)\n",
    "\n",
    "kl_weight = 0.\n",
    "kl_steps = 1. / 5000.\n",
    "\n",
    "with open('logs/loss.cvae.log', 'w') as log_fn:\n",
    "    \n",
    "    log_fn.write('epoch,reconstr_error,kldiv_error,num_batches\\n')\n",
    "\n",
    "    num_epochs = 50\n",
    "\n",
    "    z_samples = torch.randn(24, nz)\n",
    "    z_samples = Variable(z_samples).cuda()\n",
    "    \n",
    "    for epoch in range(num_epochs):\n",
    "        acc_loss = []\n",
    "        for xb, yb in tqdm(train_loader):\n",
    "            xb = Variable(xb).cuda()\n",
    "            batch_size = xb.size(0)\n",
    "            \n",
    "            yb = torch.eye(num_classes)[yb-1]\n",
    "            yb = Variable(yb).cuda()\n",
    "            \n",
    "            kl_weight += kl_steps\n",
    "            kl_weight = min(1.0, kl_weight)\n",
    "            \n",
    "            optimizer.zero_grad()\n",
    "            xb_hat, zb_mu, zb_logvar = model(xb, yb)\n",
    "            reconstr_loss = mse_loss(xb_hat, xb)\n",
    "            kldiv_loss = kl_weight * kl_loss(zb_mu, zb_logvar)\n",
    "            loss = reconstr_loss + kldiv_loss\n",
    "\n",
    "            log_fn.write(\"{},{},{},{}\\n\".format(epoch, reconstr_loss.item(), kldiv_loss.item(), batch_size))\n",
    "            \n",
    "            loss.backward()\n",
    "            optimizer.step()\n",
    "        \n",
    "            acc_loss.append(loss.item())\n",
    "            \n",
    "        if epoch % 5 == 0:\n",
    "            for digit in range(0, 10):\n",
    "                test_images = model.decode(generate_digit_vector(z_samples, digit, num_classes))\n",
    "                np.save('img/generated_img.cvae.{}.epoch{}'.format(digit, epoch), test_images.data.cpu().numpy())\n",
    "        tqdm.write(\"epoch:{} loss: {:.4f}\".format(epoch, np.mean(acc_loss)))\n",
    "\n",
    "\n",
    "    "
   ]
  },
  {
   "cell_type": "code",
   "execution_count": 6,
   "metadata": {},
   "outputs": [],
   "source": [
    "epoch = 50\n",
    "for digit in range(0, num_classes):\n",
    "    test_images = model.decode(generate_digit_vector(z_samples, digit, num_classes))\n",
    "    np.save('img/generated_img.cvae.{}.epoch{}'.format(digit, epoch), test_images.data.cpu().numpy())"
   ]
  }
 ],
 "metadata": {
  "kernelspec": {
   "display_name": "Research2018",
   "language": "python",
   "name": "research"
  },
  "language_info": {
   "codemirror_mode": {
    "name": "ipython",
    "version": 3
   },
   "file_extension": ".py",
   "mimetype": "text/x-python",
   "name": "python",
   "nbconvert_exporter": "python",
   "pygments_lexer": "ipython3",
   "version": "3.6.3"
  }
 },
 "nbformat": 4,
 "nbformat_minor": 2
}
