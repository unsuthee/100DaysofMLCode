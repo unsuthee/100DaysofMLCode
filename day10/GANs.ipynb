{
 "cells": [
  {
   "cell_type": "code",
   "execution_count": null,
   "metadata": {},
   "outputs": [],
   "source": []
  },
  {
   "cell_type": "code",
   "execution_count": 2,
   "metadata": {},
   "outputs": [
    {
     "ename": "NameError",
     "evalue": "name 'os' is not defined",
     "output_type": "error",
     "traceback": [
      "\u001b[0;31m---------------------------------------------------------------------------\u001b[0m",
      "\u001b[0;31mNameError\u001b[0m                                 Traceback (most recent call last)",
      "\u001b[0;32m<ipython-input-2-b6b62189eaa2>\u001b[0m in \u001b[0;36m<module>\u001b[0;34m()\u001b[0m\n\u001b[0;32m----> 1\u001b[0;31m \u001b[0mX\u001b[0m\u001b[0;34m,\u001b[0m \u001b[0my_vec\u001b[0m \u001b[0;34m=\u001b[0m \u001b[0mload_mnist\u001b[0m\u001b[0;34m(\u001b[0m\u001b[0;34m'mnist'\u001b[0m\u001b[0;34m)\u001b[0m\u001b[0;34m\u001b[0m\u001b[0m\n\u001b[0m",
      "\u001b[0;32m<ipython-input-1-5fcb84995e0d>\u001b[0m in \u001b[0;36mload_mnist\u001b[0;34m(dataset)\u001b[0m\n\u001b[1;32m      1\u001b[0m \u001b[0;32mdef\u001b[0m \u001b[0mload_mnist\u001b[0m\u001b[0;34m(\u001b[0m\u001b[0mdataset\u001b[0m\u001b[0;34m)\u001b[0m\u001b[0;34m:\u001b[0m\u001b[0;34m\u001b[0m\u001b[0m\n\u001b[1;32m      2\u001b[0m     \u001b[0mroot_dir\u001b[0m \u001b[0;34m=\u001b[0m \u001b[0;34m'/home/schaidaroon/research/pytorch-generative-model-collections/data'\u001b[0m\u001b[0;34m\u001b[0m\u001b[0m\n\u001b[0;32m----> 3\u001b[0;31m     \u001b[0mdata_dir\u001b[0m \u001b[0;34m=\u001b[0m \u001b[0mos\u001b[0m\u001b[0;34m.\u001b[0m\u001b[0mpath\u001b[0m\u001b[0;34m.\u001b[0m\u001b[0mjoin\u001b[0m\u001b[0;34m(\u001b[0m\u001b[0mroot_dir\u001b[0m\u001b[0;34m,\u001b[0m \u001b[0mdataset\u001b[0m\u001b[0;34m)\u001b[0m\u001b[0;34m\u001b[0m\u001b[0m\n\u001b[0m\u001b[1;32m      4\u001b[0m \u001b[0;34m\u001b[0m\u001b[0m\n\u001b[1;32m      5\u001b[0m     \u001b[0;32mdef\u001b[0m \u001b[0mextract_data\u001b[0m\u001b[0;34m(\u001b[0m\u001b[0mfilename\u001b[0m\u001b[0;34m,\u001b[0m \u001b[0mnum_data\u001b[0m\u001b[0;34m,\u001b[0m \u001b[0mhead_size\u001b[0m\u001b[0;34m,\u001b[0m \u001b[0mdata_size\u001b[0m\u001b[0;34m)\u001b[0m\u001b[0;34m:\u001b[0m\u001b[0;34m\u001b[0m\u001b[0m\n",
      "\u001b[0;31mNameError\u001b[0m: name 'os' is not defined"
     ]
    }
   ],
   "source": [
    "X, y_vec = load_mnist('mnist')"
   ]
  },
  {
   "cell_type": "code",
   "execution_count": null,
   "metadata": {},
   "outputs": [],
   "source": [
    "import os, sys\n",
    "import numpy as np\n",
    "import torch\n",
    "import torch.nn as nn\n",
    "from torch.autograd import Variable\n",
    "from torch.nn import Parameter\n",
    "import torchvision\n",
    "import torchvision.datasets as datasets\n",
    "import torchvision.transforms as transforms\n",
    "import torch.nn.functional as F\n",
    "import torch.optim as optim\n",
    "from tqdm import tqdm\n",
    "\n",
    "imageSize = 28\n",
    "num_classes = 10\n",
    "\n",
    "trans = transforms.Compose([transforms.ToTensor(),\n",
    "                            transforms.Normalize(mean=(0.5, 0.5, 0.5), std=(0.5, 0.5, 0.5))])\n",
    "\n",
    "dataset = 'MNIST'\n",
    "\n",
    "if dataset == 'FashionMNIST':\n",
    "    train_set = datasets.FashionMNIST('../datasets/stl10', train=True, download=True, transform=trans)\n",
    "    nc = 1\n",
    "elif dataset == 'MNIST':\n",
    "    train_set = datasets.MNIST('../datasets/mnist', train=True, download=True, transform=trans)\n",
    "    nc = 1\n",
    "    \n",
    "batch_size = 64\n",
    "\n",
    "train_loader = torch.utils.data.DataLoader(\n",
    "                 dataset=train_set,\n",
    "                 batch_size=batch_size,\n",
    "                 shuffle=True)\n",
    "\n",
    "print('==>>> total trainning batch number: {}'.format(len(train_loader)))\n",
    "\n",
    "os.environ[\"CUDA_VISIBLE_DEVICES\"]=\"3\"\n",
    "\n",
    "device = torch.device(\"cuda:0\")"
   ]
  },
  {
   "cell_type": "code",
   "execution_count": null,
   "metadata": {},
   "outputs": [],
   "source": [
    "def weight_init(m):\n",
    "    classname = m.__class__.__name__\n",
    "    if isinstance(m, nn.Linear):\n",
    "        m.weight.data.normal_(0.0, 0.02)\n",
    "        m.bias.data.zero_()\n",
    "    elif isinstance(m, nn.BatchNorm1d):\n",
    "        m.weight.data.normal_(1.0, 0.02)\n",
    "        m.bias.data.zero_()\n",
    "        \n",
    "class Generator(nn.Module):\n",
    "    def __init__(self, latent_dim, num_classes):\n",
    "        super(Generator, self).__init__()\n",
    "        self.num_classes = num_classes\n",
    "        self.latent_dim = latent_dim\n",
    "        self.z_to_zh = nn.Sequential(nn.Linear(latent_dim, 256),\n",
    "                                     nn.BatchNorm1d(256),\n",
    "                                     nn.ReLU(inplace=True))\n",
    "        self.y_to_yh = nn.Sequential(nn.Linear(num_classes, 256),\n",
    "                                     nn.BatchNorm1d(256),\n",
    "                                     nn.ReLU(inplace=True))\n",
    "        self.g = nn.Sequential(nn.Linear(512, 512),\n",
    "                               nn.BatchNorm1d(512),\n",
    "                               nn.ReLU(inplace=True),\n",
    "                               nn.Linear(512, 1024),\n",
    "                               nn.BatchNorm1d(1024),\n",
    "                               nn.ReLU(inplace=True),\n",
    "                               nn.Linear(1024, 784),\n",
    "                               nn.Tanh())\n",
    "    \n",
    "    def forward(self, zb, yb):\n",
    "        zh = self.z_to_zh(zb)\n",
    "        yh = self.y_to_yh(yb)\n",
    "        \n",
    "        z = torch.cat([zh, yh], dim=1)\n",
    "        output = self.g(z)\n",
    "        return output.view(-1, 1, 28, 28)\n",
    "    \n",
    "    def name(self):\n",
    "        return \"Generator\""
   ]
  },
  {
   "cell_type": "code",
   "execution_count": null,
   "metadata": {},
   "outputs": [],
   "source": [
    "def noise(num_dim, latent_dim):\n",
    "    '''\n",
    "    Generates a 1-d vector of gaussian sampled random values\n",
    "    '''\n",
    "    n = Variable(torch.randn(num_dim, latent_dim))\n",
    "    return n.cuda()\n",
    "\n",
    "def ones_target(size):\n",
    "    '''\n",
    "    Tensor containing ones, with shape = size\n",
    "    '''\n",
    "    data = Variable(torch.ones(size))\n",
    "    return data.cuda()\n",
    "\n",
    "def zeros_target(size):\n",
    "    '''\n",
    "    Tensor containing zeros, with shape = size\n",
    "    '''\n",
    "    data = Variable(torch.zeros(size))\n",
    "    return data.cuda()\n",
    "\n",
    "def one_hot(label_batch, num_classes):\n",
    "    yb_onehot = torch.eye(num_classes)[label_batch-1]\n",
    "    yb_onehot = Variable(yb_onehot)\n",
    "    return yb_onehot"
   ]
  },
  {
   "cell_type": "code",
   "execution_count": null,
   "metadata": {},
   "outputs": [],
   "source": [
    "class Discriminator(nn.Module):\n",
    "    def __init__(self, num_latent, num_classes):\n",
    "        super(Discriminator, self).__init__()\n",
    "        self.num_latent = num_latent\n",
    "        self.num_classes = num_classes\n",
    "        \n",
    "        self.x_to_xh = nn.Sequential(nn.Linear(28*28, 1024),\n",
    "                                     nn.LeakyReLU(0.2, inplace=True))\n",
    "        self.y_to_yh = nn.Sequential(nn.Linear(num_classes, 1024),\n",
    "                                     nn.LeakyReLU(0.2, inplace=True))\n",
    "        \n",
    "        self.d = nn.Sequential(nn.Linear(2048, 512),\n",
    "                                  nn.LeakyReLU(0.2, inplace=True),\n",
    "                                  nn.Linear(512, 256),\n",
    "                                  nn.LeakyReLU(0.2, inplace=True),\n",
    "                                  nn.Linear(256, 1),\n",
    "                                  nn.Sigmoid())\n",
    "\n",
    "    def forward(self, xb, yb):\n",
    "        xb = xb.view(-1, 28*28)\n",
    "        xh = self.x_to_xh(xb)\n",
    "        yh = self.y_to_yh(yb)\n",
    "        \n",
    "        xyh = torch.cat([xh, yh], dim=1)\n",
    "        out = self.d(xyh)\n",
    "        return out.squeeze(1)\n",
    "        \n",
    "    def name(self):\n",
    "        return \"Discriminator\"\n"
   ]
  },
  {
   "cell_type": "code",
   "execution_count": null,
   "metadata": {},
   "outputs": [],
   "source": [
    "num_latent = 100\n",
    "num_classes = 10\n",
    "\n",
    "D = Discriminator(num_latent, num_classes).to(device)\n",
    "D.apply(weight_init)\n",
    "\n",
    "G = Generator(num_latent, num_classes).to(device)\n",
    "G.apply(weight_init)\n",
    "\n",
    "D_optimizer = optim.SGD(D.parameters(), lr=0.0001, momentum=0.9)\n",
    "G_optimizer = optim.Adam(G.parameters(), lr=0.0001)\n",
    "\n",
    "loss = nn.BCELoss()    "
   ]
  },
  {
   "cell_type": "code",
   "execution_count": null,
   "metadata": {},
   "outputs": [],
   "source": [
    "for xb, yb in train_loader:\n",
    "    break"
   ]
  },
  {
   "cell_type": "code",
   "execution_count": null,
   "metadata": {},
   "outputs": [],
   "source": [
    "yb = one_hot(yb, num_classes).to(device)\n",
    "zb = noise(xb.size(0), nz).to(device)"
   ]
  },
  {
   "cell_type": "code",
   "execution_count": null,
   "metadata": {},
   "outputs": [],
   "source": [
    "fake_images = G(zb, yb)\n",
    "fake_images.size()"
   ]
  },
  {
   "cell_type": "code",
   "execution_count": null,
   "metadata": {},
   "outputs": [],
   "source": [
    "fake_images.view(-1, 28*28).size()"
   ]
  },
  {
   "cell_type": "code",
   "execution_count": null,
   "metadata": {},
   "outputs": [],
   "source": [
    "out = D(fake_images, yb)\n",
    "out.size()"
   ]
  },
  {
   "cell_type": "code",
   "execution_count": null,
   "metadata": {},
   "outputs": [],
   "source": [
    "def train_discriminator(optimizer, real_data, fake_data, label_data):\n",
    "    N = real_data.size(0)\n",
    "    # Reset gradients\n",
    "    optimizer.zero_grad()\n",
    "    \n",
    "    # 1.1 Train on Real Data\n",
    "    prediction_real = D(real_data, label_data)\n",
    "    # Calculate error and backpropagate\n",
    "    error_real = loss(prediction_real, ones_target(N) )\n",
    "    error_real.backward()\n",
    "\n",
    "    # 1.2 Train on Fake Data\n",
    "    prediction_fake = D(fake_data, label_data)\n",
    "    # Calculate error and backpropagate\n",
    "    error_fake = loss(prediction_fake, zeros_target(N))\n",
    "    error_fake.backward()\n",
    "    \n",
    "    # 1.3 Update weights with gradients\n",
    "    optimizer.step()\n",
    "    \n",
    "    # Return error and predictions for real and fake inputs\n",
    "    return error_real + error_fake, prediction_real, prediction_fake\n",
    "\n",
    "def train_generator(optimizer, fake_data, label_data):\n",
    "    N = fake_data.size(0)\n",
    "    # Reset gradients\n",
    "    optimizer.zero_grad()\n",
    "    # Sample noise and generate fake data\n",
    "    prediction = D(fake_data, label_data)\n",
    "    # Calculate error and backpropagate\n",
    "    error = loss(prediction, ones_target(N))\n",
    "    error.backward()\n",
    "    # Update weights with gradients\n",
    "    optimizer.step()\n",
    "    # Return error\n",
    "    return error"
   ]
  },
  {
   "cell_type": "code",
   "execution_count": null,
   "metadata": {},
   "outputs": [],
   "source": [
    "prediction_real = D(real_data, label_data)"
   ]
  },
  {
   "cell_type": "code",
   "execution_count": null,
   "metadata": {},
   "outputs": [],
   "source": [
    "real_data.size()"
   ]
  },
  {
   "cell_type": "code",
   "execution_count": null,
   "metadata": {},
   "outputs": [],
   "source": [
    "real_data.view(-1, 32*32)"
   ]
  },
  {
   "cell_type": "code",
   "execution_count": null,
   "metadata": {},
   "outputs": [],
   "source": [
    "prediction_real = D(real_data, label_data)"
   ]
  },
  {
   "cell_type": "code",
   "execution_count": null,
   "metadata": {},
   "outputs": [],
   "source": [
    "from pathlib import Path\n",
    "home = str(Path.home())\n",
    "\n",
    "num_test_samples = 24\n",
    "test_noise = noise(num_test_samples, nz)\n",
    "\n",
    "import numpy as np\n",
    "num_batches = len(train_loader)\n",
    "\n",
    "# Create logger instance\n",
    "with open('logs/loss.log', 'w') as log_fn:\n",
    "    \n",
    "    log_fn.write('epoch,d_error,g_error,n_batch,num_batches\\n')\n",
    "    \n",
    "    # Total number of epochs to train\n",
    "    num_epochs = 500\n",
    "    for epoch in range(num_epochs):\n",
    "        for n_batch, (real_batch, label_batch) in enumerate(train_loader):\n",
    "            N = real_batch.size(0)\n",
    "            label_data = one_hot(label_batch, num_classes).to(device)\n",
    "            # 1. Train Discriminator\n",
    "            real_data = Variable(real_batch)\n",
    "            real_data = real_data.to(device)\n",
    "\n",
    "            # Generate fake data and detach \n",
    "            # (so gradients are not calculated for generator)\n",
    "            fake_data = G(noise(N, nz), label_data).detach()\n",
    "            # Train D\n",
    "            d_error, d_pred_real, d_pred_fake = \\\n",
    "                  train_discriminator(D_optimizer, real_data, fake_data, label_data)\n",
    "\n",
    "            # 2. Train Generator\n",
    "            # Generate fake data\n",
    "            fake_data = G(noise(N, nz), label_data)\n",
    "            # Train G\n",
    "            g_error = train_generator(G_optimizer, fake_data, label_data)\n",
    "            # Log batch error\n",
    "            log_fn.write('{},{:.6f},{:.6f},{},{}\\n'.format(epoch, d_error, g_error, n_batch, num_batches))\n",
    "            \n",
    "            # Display Progress every few batches\n",
    "            #if (n_batch) % 100 == 0: \n",
    "            #    test_images = G(test_noise)\n",
    "            #    test_images = test_images.data\n",
    "                \n",
    "        print(\"epoch: {} d_error: {:.4f} g_error: {:.4f}\".format(epoch, d_error, g_error))\n",
    "        if epoch % 5 == 0:\n",
    "            for n in range(num_classes):\n",
    "                class_onehot = n * torch.ones(test_noise.size(0)).type(torch.LongTensor)\n",
    "                class_onehot = torch.eye(num_classes)[class_onehot]\n",
    "                class_onehot = Variable(class_onehot).cuda()\n",
    "\n",
    "                test_images = G(test_noise, class_onehot)\n",
    "                test_images = test_images.data\n",
    "                np.save('img/generated_img.{}.epoch{}'.format(n, epoch), test_images.cpu().numpy())"
   ]
  }
 ],
 "metadata": {
  "kernelspec": {
   "display_name": "Research2018",
   "language": "python",
   "name": "research"
  },
  "language_info": {
   "codemirror_mode": {
    "name": "ipython",
    "version": 3
   },
   "file_extension": ".py",
   "mimetype": "text/x-python",
   "name": "python",
   "nbconvert_exporter": "python",
   "pygments_lexer": "ipython3",
   "version": "3.6.3"
  }
 },
 "nbformat": 4,
 "nbformat_minor": 2
}
